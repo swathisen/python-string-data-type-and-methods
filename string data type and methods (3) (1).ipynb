{
 "cells": [
  {
   "cell_type": "code",
   "execution_count": null,
   "id": "6e2d77ed",
   "metadata": {},
   "outputs": [],
   "source": [
    "# rules for declaring variables in python"
   ]
  },
  {
   "cell_type": "code",
   "execution_count": null,
   "id": "8172cfea",
   "metadata": {},
   "outputs": [],
   "source": [
    "#Rule 1. no name pace while declaring variable\n"
   ]
  },
  {
   "cell_type": "code",
   "execution_count": 1,
   "id": "5038d31e",
   "metadata": {},
   "outputs": [
    {
     "ename": "SyntaxError",
     "evalue": "invalid syntax (Temp/ipykernel_17200/1899240878.py, line 1)",
     "output_type": "error",
     "traceback": [
      "\u001b[1;36m  File \u001b[1;32m\"C:\\Users\\Hema\\AppData\\Local\\Temp/ipykernel_17200/1899240878.py\"\u001b[1;36m, line \u001b[1;32m1\u001b[0m\n\u001b[1;33m    first name='Lotus'\u001b[0m\n\u001b[1;37m          ^\u001b[0m\n\u001b[1;31mSyntaxError\u001b[0m\u001b[1;31m:\u001b[0m invalid syntax\n"
     ]
    }
   ],
   "source": [
    "first name='Lotus'\n",
    "print(first name)"
   ]
  },
  {
   "cell_type": "code",
   "execution_count": 2,
   "id": "6b270553",
   "metadata": {},
   "outputs": [
    {
     "name": "stdout",
     "output_type": "stream",
     "text": [
      "Lotus\n"
     ]
    }
   ],
   "source": [
    "firstname='Lotus'\n",
    "print(firstname)"
   ]
  },
  {
   "cell_type": "code",
   "execution_count": 3,
   "id": "3c913870",
   "metadata": {},
   "outputs": [],
   "source": [
    "#Rule 2: Variable name shouldnot start with a number"
   ]
  },
  {
   "cell_type": "code",
   "execution_count": 4,
   "id": "ff74dffe",
   "metadata": {},
   "outputs": [
    {
     "ename": "SyntaxError",
     "evalue": "invalid syntax (Temp/ipykernel_17200/2633728781.py, line 1)",
     "output_type": "error",
     "traceback": [
      "\u001b[1;36m  File \u001b[1;32m\"C:\\Users\\Hema\\AppData\\Local\\Temp/ipykernel_17200/2633728781.py\"\u001b[1;36m, line \u001b[1;32m1\u001b[0m\n\u001b[1;33m    1name = 'Lotus'\u001b[0m\n\u001b[1;37m     ^\u001b[0m\n\u001b[1;31mSyntaxError\u001b[0m\u001b[1;31m:\u001b[0m invalid syntax\n"
     ]
    }
   ],
   "source": [
    "1name = 'Lotus'\n",
    "print(1name)"
   ]
  },
  {
   "cell_type": "code",
   "execution_count": 5,
   "id": "3a93d7a1",
   "metadata": {},
   "outputs": [
    {
     "name": "stdout",
     "output_type": "stream",
     "text": [
      "lotus\n"
     ]
    }
   ],
   "source": [
    "name1='lotus'\n",
    "print(name1)"
   ]
  },
  {
   "cell_type": "code",
   "execution_count": 6,
   "id": "0b98b198",
   "metadata": {},
   "outputs": [],
   "source": [
    "##**So we can have numner at middle and end"
   ]
  },
  {
   "cell_type": "code",
   "execution_count": 7,
   "id": "b27e4188",
   "metadata": {},
   "outputs": [],
   "source": [
    "#Rule3: variable should not contain  any special character\n",
    "#$@& these are not allowed"
   ]
  },
  {
   "cell_type": "code",
   "execution_count": 12,
   "id": "cbbb76b5",
   "metadata": {},
   "outputs": [
    {
     "ename": "SyntaxError",
     "evalue": "invalid syntax (Temp/ipykernel_17200/2512001586.py, line 2)",
     "output_type": "error",
     "traceback": [
      "\u001b[1;36m  File \u001b[1;32m\"C:\\Users\\Hema\\AppData\\Local\\Temp/ipykernel_17200/2512001586.py\"\u001b[1;36m, line \u001b[1;32m2\u001b[0m\n\u001b[1;33m    print(name@)\u001b[0m\n\u001b[1;37m               ^\u001b[0m\n\u001b[1;31mSyntaxError\u001b[0m\u001b[1;31m:\u001b[0m invalid syntax\n"
     ]
    }
   ],
   "source": [
    "name@='lotus'\n",
    "print(name@)"
   ]
  },
  {
   "cell_type": "code",
   "execution_count": null,
   "id": "4bf755f5",
   "metadata": {},
   "outputs": [],
   "source": [
    "#Introduction to Datatypes in python\n",
    "1.String\n",
    "2.Number---- integers and floats\n",
    "3.List\n",
    "4.Tuple\n",
    "5. Dictionaries\n",
    "\n",
    "Classificataion of Data types: 2 types;\n",
    "    a.  Mutable - it is flexible which we can edit and alter\n",
    "    b. immutable datatype-fixed,cant be edited or altered\n",
    "    "
   ]
  },
  {
   "cell_type": "code",
   "execution_count": null,
   "id": "5d6244eb",
   "metadata": {},
   "outputs": [],
   "source": [
    "#Introduction to string Datatypes\n",
    "String  is a  series of characters declared in 'quotes'\n",
    "Classification: immutable datatype\n",
    "#How to declare strings\n",
    "1. single quotes\n",
    "2.Double quotes\n",
    "3.Triple quotes"
   ]
  },
  {
   "cell_type": "code",
   "execution_count": null,
   "id": "cffd1361",
   "metadata": {},
   "outputs": [],
   "source": [
    "#String Methods:\n",
    "Methods are default built-in program in python we can use .\n",
    "Method 1 - Type\n",
    "Method 2 - Title\n",
    "Method 3 -Upper\n",
    "Method 4 - Lower\n",
    "Method 5 - \\n (new line delimiter)\n",
    "Method 6 - \\t (tab delimiter)\n",
    "Method 7 - Strip method\n"
   ]
  },
  {
   "cell_type": "code",
   "execution_count": 17,
   "id": "571189c0",
   "metadata": {},
   "outputs": [
    {
     "data": {
      "text/plain": [
       "str"
      ]
     },
     "execution_count": 17,
     "metadata": {},
     "output_type": "execute_result"
    }
   ],
   "source": [
    "#Method1- type\n",
    "name='lotus'\n",
    "type(name)"
   ]
  },
  {
   "cell_type": "code",
   "execution_count": 19,
   "id": "0c463071",
   "metadata": {},
   "outputs": [
    {
     "name": "stdout",
     "output_type": "stream",
     "text": [
      "Naveen Kumar\n"
     ]
    }
   ],
   "source": [
    "#Method 2 - Title\n",
    "full_name='naveen kumar'\n",
    "print(full_name.title())"
   ]
  },
  {
   "cell_type": "code",
   "execution_count": 20,
   "id": "df31f7b9",
   "metadata": {},
   "outputs": [
    {
     "name": "stdout",
     "output_type": "stream",
     "text": [
      "NAVEEN KUMAR\n"
     ]
    }
   ],
   "source": [
    "#Method 3 - upper\n",
    "full_name='naveen kumar'\n",
    "print(full_name.upper())"
   ]
  },
  {
   "cell_type": "code",
   "execution_count": 21,
   "id": "68019bf8",
   "metadata": {},
   "outputs": [
    {
     "name": "stdout",
     "output_type": "stream",
     "text": [
      "naveen kumar\n"
     ]
    }
   ],
   "source": [
    "#Method4-Lower\n",
    "\n",
    "full_name='naveen kumar'\n",
    "print(full_name.lower())"
   ]
  },
  {
   "cell_type": "code",
   "execution_count": 33,
   "id": "e5304a60",
   "metadata": {},
   "outputs": [
    {
     "name": "stdout",
     "output_type": "stream",
     "text": [
      "sunil yadav\n"
     ]
    }
   ],
   "source": [
    "#Introduction to f strings\n",
    "#General syntax for 'f'strings:\n",
    "#f\"custom words {placeholders1}{placeholder2}{placeholder3}....{placeeholder..n}\"\n",
    "\n",
    "#eg. \n",
    "firstname=\"sunil \"\n",
    "lastname=\"yadav\"\n",
    "# Req= Iwant to get full name\n",
    "fullname= f'{firstname}{lastname}'\n",
    "print(fullname)"
   ]
  },
  {
   "cell_type": "code",
   "execution_count": 37,
   "id": "b8a29e2b",
   "metadata": {},
   "outputs": [
    {
     "name": "stdout",
     "output_type": "stream",
     "text": [
      "sunil yadav\n",
      "Sunil Yadav\n"
     ]
    }
   ],
   "source": [
    "#If we want to write it in normal format, then\n",
    "firstname=\"sunil \"\n",
    "lastname=\"yadav\"\n",
    "fullname=f'{firstname}{lastname}'\n",
    "print(fullname)\n",
    "print(fullname.title())"
   ]
  },
  {
   "cell_type": "code",
   "execution_count": 40,
   "id": "ca7db8db",
   "metadata": {},
   "outputs": [
    {
     "name": "stdout",
     "output_type": "stream",
     "text": [
      "Keep up good work,Sunil Yadav\n"
     ]
    }
   ],
   "source": [
    "# if we want to write keep up good work sunil yadav\n",
    "message=f'Keep up good work,{fullname.title()}'\n",
    "print(message)"
   ]
  },
  {
   "cell_type": "code",
   "execution_count": 45,
   "id": "000c77a1",
   "metadata": {},
   "outputs": [
    {
     "name": "stdout",
     "output_type": "stream",
     "text": [
      "favorite_language: python,java,c++,c\n",
      "favorite_language: \n",
      "python\n",
      "java\n",
      "c++\n",
      "c\n"
     ]
    }
   ],
   "source": [
    "##Method :adding \\n \n",
    "favorite_language:\"python,java,c++,c\"\n",
    "print('favorite_language: python,java,c++,c')\n",
    "print(\"favorite_language: \\npython\\njava\\nc++\\nc\")"
   ]
  },
  {
   "cell_type": "code",
   "execution_count": 48,
   "id": "a0026ac4",
   "metadata": {},
   "outputs": [
    {
     "name": "stdout",
     "output_type": "stream",
     "text": [
      "favorite_language:\tpython\tjava\tnc++\tnc\n",
      "favorite_name:\n",
      "\tpython\n",
      "\tjava\n",
      "\tc++\n",
      "\tc\n"
     ]
    }
   ],
   "source": [
    "## Adding \\t\n",
    "print(\"favorite_language:\\tpython\\tjava\\tnc++\\tnc\")\n",
    "print(\"favorite_name:\\n\\tpython\\n\\tjava\\n\\tc++\\n\\tc\")"
   ]
  },
  {
   "cell_type": "code",
   "execution_count": 97,
   "id": "a509486e",
   "metadata": {},
   "outputs": [
    {
     "name": "stdout",
     "output_type": "stream",
     "text": [
      "python\n",
      "  1python\n",
      "2python \n",
      "1python\n",
      "2python\n",
      "    python \n"
     ]
    },
    {
     "data": {
      "text/plain": [
       "'python'"
      ]
     },
     "execution_count": 97,
     "metadata": {},
     "output_type": "execute_result"
    }
   ],
   "source": [
    "#Removing white spaces fron strings\n",
    "name1=\"python\"\n",
    "print(name1)\n",
    "name2= \"  1python\"# left side gap\n",
    "print(name2)\n",
    "name3=\"2python \"#right side gap\n",
    "print(name3)\n",
    "#how to remove these white spaces?\n",
    "#we have to use strip method\n",
    "name2.lstrip()\n",
    "print(name2.lstrip())\n",
    "name3.rstrip()\n",
    "print(name3.rstrip())\n",
    "# Using STrip frunction for left and right space\n",
    "name4=\"    python \"\n",
    "print(name4)\n",
    "name4.strip()\n",
    "######print(name4.strip()) if we simply run it shows in quotes , if we print it is shows without quotes."
   ]
  },
  {
   "cell_type": "code",
   "execution_count": null,
   "id": "88a7e794",
   "metadata": {},
   "outputs": [],
   "source": []
  }
 ],
 "metadata": {
  "kernelspec": {
   "display_name": "Python 3 (ipykernel)",
   "language": "python",
   "name": "python3"
  },
  "language_info": {
   "codemirror_mode": {
    "name": "ipython",
    "version": 3
   },
   "file_extension": ".py",
   "mimetype": "text/x-python",
   "name": "python",
   "nbconvert_exporter": "python",
   "pygments_lexer": "ipython3",
   "version": "3.9.7"
  }
 },
 "nbformat": 4,
 "nbformat_minor": 5
}
